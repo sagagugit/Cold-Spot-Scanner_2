{
 "cells": [
  {
   "cell_type": "code",
   "execution_count": null,
   "id": "ce7c31d7",
   "metadata": {},
   "outputs": [],
   "source": [
    "import os\n",
    "import numpy as np\n",
    "import pandas as pd\n",
    "import xgboost as xgb\n",
    "import catboost as cb\n",
    "from sklearn import metrics\n",
    "from sklearn.metrics import r2_score"
   ]
  },
  {
   "cell_type": "code",
   "execution_count": null,
   "id": "8304594e",
   "metadata": {},
   "outputs": [],
   "source": [
    "temp = np.load('test.npz')\n",
    "X_test, test_y = temp['data'], temp['label']\n",
    "\n",
    "temp = np.load('train.npz')\n",
    "train_df, train_y = temp['data'], temp['label']\n"
   ]
  },
  {
   "cell_type": "code",
   "execution_count": null,
   "id": "f9535271",
   "metadata": {},
   "outputs": [],
   "source": [
    "model = cb.CatBoostRegressor()\n",
    "model.fit(train_df,train_y)\n",
    "model.score(train_df,train_y) "
   ]
  },
  {
   "cell_type": "code",
   "execution_count": null,
   "id": "e8e11d3f",
   "metadata": {},
   "outputs": [],
   "source": [
    "xgbr = xgb.XGBRegressor() \n",
    "xgbr.fit(train_df,train_y)\n",
    "xgbr.score(train_df,train_y) "
   ]
  },
  {
   "cell_type": "code",
   "execution_count": null,
   "id": "a32526d5",
   "metadata": {},
   "outputs": [],
   "source": [
    "ypred = xgbr.predict(X_test)\n",
    "import scipy\n",
    "print(f'{scipy.stats.spearmanr(test_y, ypred)}')"
   ]
  },
  {
   "cell_type": "code",
   "execution_count": null,
   "id": "bc4653f4",
   "metadata": {
    "scrolled": true
   },
   "outputs": [],
   "source": [
    "ypred = model.predict(X_test)\n",
    "import scipy\n",
    "print(f'{scipy.stats.spearmanr(test_y, ypred)}')"
   ]
  },
  {
   "cell_type": "code",
   "execution_count": null,
   "id": "e3e860eb",
   "metadata": {},
   "outputs": [],
   "source": []
  }
 ],
 "metadata": {
  "kernelspec": {
   "display_name": "Python 3 (ipykernel)",
   "language": "python",
   "name": "python3"
  },
  "language_info": {
   "codemirror_mode": {
    "name": "ipython",
    "version": 3
   },
   "file_extension": ".py",
   "mimetype": "text/x-python",
   "name": "python",
   "nbconvert_exporter": "python",
   "pygments_lexer": "ipython3",
   "version": "3.9.13"
  }
 },
 "nbformat": 4,
 "nbformat_minor": 5
}
